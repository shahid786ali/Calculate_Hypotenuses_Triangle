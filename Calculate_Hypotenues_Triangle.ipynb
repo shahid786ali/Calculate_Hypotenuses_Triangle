{
 "cells": [
  {
   "cell_type": "markdown",
   "id": "98436dcc",
   "metadata": {},
   "source": [
    "# In Geometry, a triangle is a three-sided polygon that consists of three edges and three vertices. The most important property of a triangle is that the sum of the internal angles of a triangle is equal to 180 degrees."
   ]
  },
  {
   "cell_type": "code",
   "execution_count": null,
   "id": "45fb9ea3",
   "metadata": {},
   "outputs": [],
   "source": [
    "import math\n",
    "\n",
    "def hypotenuse(side1, side2):\n",
    "    \n",
    "    \n",
    "    hyp = math.sqrt(side1**2 + side2**2)\n",
    "    return hyp"
   ]
  },
  {
   "cell_type": "code",
   "execution_count": 2,
   "id": "5a89bc3a",
   "metadata": {},
   "outputs": [
    {
     "name": "stdout",
     "output_type": "stream",
     "text": [
      "Enter the sides of traingle= 4\n",
      "Enter the another sides of traingle= 3\n",
      "Triangle  Hypotenuse: 5.0\n"
     ]
    }
   ],
   "source": [
    "side1=int(input(\"Enter the sides of traingle= \"))\n",
    "side2=int(input(\"Enter the another sides of traingle= \"))\n",
    "\n",
    "triangle_hypotenuse = hypotenuse(side1, side2)\n",
    "\n",
    "print(\"Triangle  Hypotenuse:\", triangle_hypotenuse)"
   ]
  },
  {
   "cell_type": "code",
   "execution_count": null,
   "id": "707c88bc",
   "metadata": {},
   "outputs": [],
   "source": []
  }
 ],
 "metadata": {
  "kernelspec": {
   "display_name": "Python 3",
   "language": "python",
   "name": "python3"
  },
  "language_info": {
   "codemirror_mode": {
    "name": "ipython",
    "version": 3
   },
   "file_extension": ".py",
   "mimetype": "text/x-python",
   "name": "python",
   "nbconvert_exporter": "python",
   "pygments_lexer": "ipython3",
   "version": "3.8.8"
  }
 },
 "nbformat": 4,
 "nbformat_minor": 5
}
